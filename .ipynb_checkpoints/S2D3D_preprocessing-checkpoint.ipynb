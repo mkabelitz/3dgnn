{
 "cells": [
  {
   "cell_type": "code",
   "execution_count": 1,
   "metadata": {},
   "outputs": [
    {
     "name": "stderr",
     "output_type": "stream",
     "text": [
      "/work/kabelitz/anaconda3/lib/python3.6/site-packages/h5py/__init__.py:36: FutureWarning: Conversion of the second argument of issubdtype from `float` to `np.floating` is deprecated. In future, it will be treated as `np.float64 == np.dtype(float).type`.\n",
      "  from ._conv import register_converters as _register_converters\n"
     ]
    }
   ],
   "source": [
    "from os import listdir\n",
    "from os.path import isfile, join\n",
    "import glob\n",
    "import utils as u\n",
    "from tqdm import tqdm\n",
    "import cv2\n",
    "import numpy as np\n",
    "import scipy.ndimage as spimg\n",
    "import imageio\n",
    "import h5py\n",
    "import lmdb\n",
    "\n",
    "import matplotlib.pyplot as plt\n",
    "import matplotlib.image as mpimg\n",
    "%matplotlib inline\n",
    "\n",
    "from IPython.display import Image\n",
    "from IPython.core.display import HTML \n",
    "import ipywidgets as widgets\n",
    "from ipywidgets import interact"
   ]
  },
  {
   "cell_type": "code",
   "execution_count": 2,
   "metadata": {},
   "outputs": [
    {
     "name": "stdout",
     "output_type": "stream",
     "text": [
      "{'<UNK>': 0, 'beam': 1, 'board': 2, 'bookcase': 3, 'ceiling': 4, 'chair': 5, 'clutter': 6, 'column': 7, 'door': 8, 'floor': 9, 'sofa': 10, 'table': 11, 'wall': 12, 'window': 13}\n",
      "{0: '<UNK>', 1: 'beam', 2: 'board', 3: 'bookcase', 4: 'ceiling', 5: 'chair', 6: 'clutter', 7: 'column', 8: 'door', 9: 'floor', 10: 'sofa', 11: 'table', 12: 'wall', 13: 'window'}\n"
     ]
    }
   ],
   "source": [
    "semantic_labels = u.load_labels('../data/S2D3D/assets/semantic_labels.json')\n",
    "\n",
    "label_set = set()\n",
    "for entry in semantic_labels:\n",
    "    label_set.add(u.parse_label(entry)['instance_class'])\n",
    "label_list = sorted(list(label_set))\n",
    "label_to_idx = {}\n",
    "idx_to_label = {}\n",
    "for idx, label in enumerate(label_list):\n",
    "    label_to_idx[label] = idx\n",
    "    idx_to_label[idx] = label\n",
    "print(label_to_idx)\n",
    "print(idx_to_label)"
   ]
  },
  {
   "cell_type": "code",
   "execution_count": 3,
   "metadata": {},
   "outputs": [],
   "source": [
    "path_area_1  = '/work/kabelitz/data/S2D3D/area_1/'\n",
    "path_area_2  = '/work/kabelitz/data/S2D3D/area_2/'\n",
    "path_area_3  = '/work/kabelitz/data/S2D3D/area_3/'\n",
    "path_area_4  = '/work/kabelitz/data/S2D3D/area_4/'\n",
    "path_area_5a = '/work/kabelitz/data/S2D3D/area_5a/'\n",
    "path_area_5b = '/work/kabelitz/data/S2D3D/area_5b/'\n",
    "path_area_6  = '/work/kabelitz/data/S2D3D/area_6/'\n",
    "\n",
    "paths_to_process = [path_area_1, path_area_2, path_area_3, path_area_4, path_area_5a, path_area_5b, path_area_6]"
   ]
  },
  {
   "cell_type": "code",
   "execution_count": 4,
   "metadata": {},
   "outputs": [
    {
     "name": "stderr",
     "output_type": "stream",
     "text": [
      "100%|██████████| 10327/10327 [00:00<00:00, 2612774.61it/s]\n",
      "100%|██████████| 15714/15714 [00:00<00:00, 2480310.58it/s]\n",
      "100%|██████████| 3704/3704 [00:00<00:00, 2245692.69it/s]\n",
      "100%|██████████| 13268/13268 [00:00<00:00, 2734779.37it/s]\n",
      "100%|██████████| 6261/6261 [00:00<00:00, 2540686.66it/s]\n",
      "100%|██████████| 11332/11332 [00:00<00:00, 2736003.51it/s]\n",
      "100%|██████████| 9890/9890 [00:00<00:00, 2682293.34it/s]\n"
     ]
    }
   ],
   "source": [
    "label_threshold = 0.75\n",
    "void_label = 0\n",
    "\n",
    "do_rgb = False\n",
    "do_depth = False\n",
    "do_label = False\n",
    "\n",
    "one_hot_labels = np.eye(14,14)\n",
    "\n",
    "for path in paths_to_process:\n",
    "    names = u.load_names(path+'data/semantic/')\n",
    "    for idx, name in enumerate(tqdm(names)):\n",
    "        \n",
    "        if do_rgb:\n",
    "            img_rgb = cv2.imread(path + 'data/rgb/' + name + 'rgb.png')\n",
    "            img_rgb = cv2.resize(img_rgb, (360, 360), interpolation=cv2.INTER_AREA)\n",
    "            cv2.imwrite(path+'data/preprocessed/rgb/'+name+'rgb.png', img_rgb)\n",
    "        \n",
    "        if do_depth:\n",
    "            img_depth = cv2.imread(path + 'data/depth/' + name + 'depth.png', cv2.IMREAD_ANYDEPTH)\n",
    "            img_depth = cv2.resize(img_depth, (360, 360), interpolation=cv2.INTER_AREA)\n",
    "            np.save(path+'data/preprocessed/depth/'+name+'depth.png', img_depth)\n",
    "            # cv2.imwrite(path+'data/preprocessed/depth/'+name+'depth.png', img_depth)\n",
    "        \n",
    "        if do_label:\n",
    "            img_label = cv2.cvtColor(cv2.imread(path + 'data/semantic/' + name + 'semantic.png'), cv2.COLOR_BGR2RGB)\n",
    "            img_label = img_label.reshape(-1, 3)\n",
    "            img_label[np.where((img_label==[13,13,13]).all(axis=1))] = [0,0,0]\n",
    "\n",
    "            img_index_to_idx = {}\n",
    "            unique_rgb = np.unique(img_label,axis=0)\n",
    "            unique_indices = [u.get_index(rgb) for rgb in unique_rgb]\n",
    "            label_for_unique_indices = [label_to_idx[u.parse_label(semantic_labels[index])['instance_class']] for index in unique_indices]\n",
    "\n",
    "            img_one_hot = np.zeros((1080**2, 14))\n",
    "            for idx, label in enumerate(label_for_unique_indices):\n",
    "                img_one_hot[np.where((img_label==unique_rgb[idx]).all(axis=1))] = one_hot_labels[label]\n",
    "\n",
    "            img_class_prob = cv2.resize(img_one_hot.reshape((1080, 1080, 14)), (360, 360), interpolation=cv2.INTER_AREA)\n",
    "            max_idx = np.argmax(img_class_prob, 2)\n",
    "            max_val = np.max(img_class_prob, 2)\n",
    "            #print(np.unique(max_val))\n",
    "            unique, counts = np.unique(max_idx, return_counts=True)\n",
    "            #print(dict(zip(unique, counts)))\n",
    "            max_idx[max_val < label_threshold] = void_label\n",
    "            unique, counts = np.unique(max_idx, return_counts=True)\n",
    "            #print(dict(zip(unique, counts)))\n",
    "            cv2.imwrite(path+'data/preprocessed/label_area_interpolated/'+name+'label_area_interpolated.png', max_idx)    \n"
   ]
  },
  {
   "cell_type": "code",
   "execution_count": 9,
   "metadata": {
    "scrolled": false
   },
   "outputs": [
    {
     "name": "stderr",
     "output_type": "stream",
     "text": [
      "\r",
      "  0%|          | 0/11332 [00:00<?, ?it/s]"
     ]
    },
    {
     "name": "stdout",
     "output_type": "stream",
     "text": [
      "k: (3, 3)\n",
      "[[999.03460693   0.         540.        ]\n",
      " [  0.         999.03460693 540.        ]\n",
      " [  0.           0.           1.        ]]\n",
      "rt: (3, 4)\n",
      "[[ 9.90371525e-01 -1.38434842e-01  1.97877525e-04 -2.39432192e+00]\n",
      " [-3.18475254e-02 -2.29229778e-01 -9.72851217e-01  1.67080963e+00]\n",
      " [ 1.34721860e-01  9.63477790e-01 -2.31431454e-01 -6.79012239e-01]]\n"
     ]
    },
    {
     "name": "stderr",
     "output_type": "stream",
     "text": [
      "\n"
     ]
    },
    {
     "data": {
      "image/png": "[encoded data removed]",
      "text/plain": [
       "<Figure size 432x288 with 1 Axes>"
      ]
     },
     "metadata": {},
     "output_type": "display_data"
    }
   ],
   "source": [
    "# make normal images from depth\n",
    "\n",
    "paths_to_process = [path_area_5b]\n",
    "for path in paths_to_process:\n",
    "    names = u.load_names(path+'data/semantic/')\n",
    "    for idx, name in enumerate(tqdm(names)):\n",
    "        #if idx < 1000:\n",
    "        #    continue\n",
    "        #else:\n",
    "        #    c += 1\n",
    "        #print(name)\n",
    "        \n",
    "        camera_json = u.load_labels(path + 'data/pose/' + name + 'pose.json')\n",
    "        camera_k_matrix = camera_json['camera_k_matrix']\n",
    "        camera_rt_matrix = np.array(camera_json['camera_rt_matrix'])\n",
    "        \n",
    "        k = np.array(camera_k_matrix)\n",
    "        rt = np.array(camera_rt_matrix)\n",
    "        print('k:', k.shape)\n",
    "        print(k)\n",
    "        print('rt:', rt.shape)\n",
    "        print(rt)\n",
    "\n",
    "        img_rgb = cv2.cvtColor(cv2.imread(path + 'data/preprocessed/rgb/' + name + 'rgb.png'), cv2.COLOR_BGR2RGB)\n",
    "        img_depth = cv2.imread(path + 'data/depth/' + name + 'depth.png', cv2.IMREAD_ANYDEPTH)\n",
    "        img_depth[np.where((img_depth==(2**16)-1))] = -512.\n",
    "        img_depth = cv2.resize(img_depth, (360, 360), interpolation=cv2.INTER_AREA)\n",
    "        \n",
    "        img_normal = np.zeros((360, 360, 3))\n",
    "        img_normal[:,:,0] = (np.convolve(img_depth.reshape(-1), [0.5, 0, -0.5], 'same').reshape((360, 360))) * -1.0\n",
    "        img_normal[:,:,1] = (np.transpose(np.convolve(np.transpose(img_depth).reshape(-1), [0.5, 0, -0.5], 'same').reshape((360,360)))) * -1.0\n",
    "        img_normal[:,:,2] = np.ones((360,360))\n",
    "        \n",
    "        norms = np.linalg.norm(img_normal, axis=2).reshape((360,360,1))\n",
    "        norms = np.repeat(norms, 3, axis=2)\n",
    "        img_normal = np.divide(img_normal, norms)\n",
    "        img_normal = (img_normal + 1.0) /2.0  # do this only if you want to plot normal images\n",
    "        plt.imshow(img_normal)\n",
    "        break\n",
    "        \n",
    "        img_normal_blur = spimg.filters.median_filter(img_normal, (5,5,1))\n",
    "        \n",
    "        gravity = np.array([0, 0, 1, 0])\n",
    "        gravity = np.matmul(np.concatenate((camera_rt_matrix, [[0, 0, 0, 1]])), gravity)[:-1]\n",
    "        img_angle = np.einsum('ijk,k->ij', img_normal_blur, gravity)\n",
    "        img_angle = np.arccos(img_angle)\n",
    "        \n",
    "        img_y = np.repeat(np.arange(0,360,1).reshape((360, 1)), 360, axis=1)\n",
    "        img_x = np.transpose(img_y)\n",
    "        img_y = img_y - (camera_k_matrix[1][2] / 3)\n",
    "        img_x = img_x - (camera_k_matrix[0][2] / 3)\n",
    "        img_y = np.multiply(img_y, img_depth/512.) / (camera_k_matrix[1][1] / 3)\n",
    "        img_x = np.multiply(img_x, img_depth/512.) / (camera_k_matrix[0][0] / 3)\n",
    "        img_xyz = np.concatenate((img_x.reshape((360,360,1)), img_y.reshape((360,360,1)), img_depth.reshape((360,360,1)) / 512., np.ones((360,360,1))), axis=2)\n",
    "        \n",
    "        img_horizontal_displacement = img_xyz[:,:,2]\n",
    "        \n",
    "        rt_inv = np.linalg.inv(np.concatenate((camera_rt_matrix, [[0, 0, 0, 1]])))\n",
    "        global_xyz = np.matmul(img_xyz, np.transpose(rt_inv))\n",
    "        img_height = global_xyz[:,:,2]\n",
    "        \n",
    "        img_hha = np.concatenate((img_horizontal_displacement.reshape((360,360,1)), img_height.reshape((360,360,1)), img_angle.reshape((360,360,1))), axis=2).astype(np.float32)\n",
    "        #np.save(path+'data/preprocessed/hha/'+name+'hha.npy', np.nan_to_num(img_hha))\n",
    "        \n",
    "        img_hha = img_hha.astype(np.float16)\n",
    "        img_xy = img_xyz[:,:,:2].astype(np.float16)\n",
    "        \n",
    "        #np.save(path+'data/preprocessed/hha/'+name+'hha16.npy', np.nan_to_num(img_hha))\n",
    "        #np.save(path+'data/preprocessed/xy/'+name+'xy16.npy', np.nan_to_num(img_xy))\n",
    "        #cv2.imwrite(path+'data/preprocessed/x/'+name+'x.png', img_x)\n",
    "        \n",
    "        #f, axarr = plt.subplots(2, 2, figsize=(20, 17))\n",
    "        #im1 = axarr[0,0].imshow(img_rgb)\n",
    "        #im2 = axarr[0,1].imshow(img_hha[:,:,0])\n",
    "        #im3 = axarr[1,0].imshow(img_hha[:,:,1])\n",
    "        #im4 = axarr[1,1].imshow(img_hha[:,:,2])\n",
    "        #plt.colorbar(im1, ax=axarr[0,0])\n",
    "        #plt.colorbar(im2, ax=axarr[0,1])\n",
    "        #plt.colorbar(im3, ax=axarr[1,0])\n",
    "        #plt.colorbar(im4, ax=axarr[1,1])\n",
    "        #plt.show()\n",
    "        #break\n",
    "    #break"
   ]
  },
  {
   "cell_type": "code",
   "execution_count": null,
   "metadata": {},
   "outputs": [],
   "source": [
    "# make flip images\n",
    "\n",
    "horizontal_disp_min = np.inf\n",
    "horizontal_disp_max = -np.inf\n",
    "height_min = np.inf\n",
    "height_max = -np.inf\n",
    "angle_min = 0.0\n",
    "angle_max = 3.2\n",
    "\n",
    "for path in paths_to_process:\n",
    "    names = u.load_names(path+'data/semantic/')\n",
    "    for idx, name in enumerate(tqdm(names)):\n",
    "        #img_rgb = cv2.imread(path + 'data/preprocessed/rgb/' + name + 'rgb.png')\n",
    "        #cv2.imwrite(path+'data/preprocessed/rgb/flip/'+name+'rgb.png', np.fliplr(img_rgb))\n",
    "        img_label_area_interpolated = cv2.imread(path + 'data/preprocessed/label_area_interpolated/' + name + 'label_area_interpolated.png', cv2.IMREAD_ANYDEPTH)\n",
    "        #cv2.imwrite(path+'data/preprocessed/label_area_interpolated/'+name+'label_area_interpolated.png', img_label_area_interpolated)\n",
    "        #cv2.imwrite(path+'data/preprocessed/label_area_interpolated/flip/'+name+'label_area_interpolated.png', np.fliplr(img_label_area_interpolated))\n",
    "        img_depth = cv2.imread(path + 'data/preprocessed/depth/' + name + 'depth.png', cv2.IMREAD_ANYDEPTH)\n",
    "        #cv2.imwrite(path+'data/preprocessed/depth/'+name+'depth.png', img_depth)\n",
    "        #cv2.imwrite(path+'data/preprocessed/depth/flip/'+name+'depth.png', np.fliplr(img_depth))\n",
    "        \n",
    "        img_hha = np.load(path + 'data/preprocessed/hha/' + name + 'hha.npy')\n",
    "        #imageio.imwrite(path+'data/preprocessed/hha/'+name+'hha.tiff', img_hha)\n",
    "        #imageio.imwrite(path+'data/preprocessed/hha/flip/'+name+'hha.tiff', np.fliplr(img_hha))\n",
    "        \n",
    "        # just stats collection for next cell\n",
    "        #\n",
    "        #ho_min = np.min(img_hha[:,:,0])\n",
    "        #ho_max = np.max(img_hha[:,:,0])\n",
    "        #if ho_min < horizontal_disp_min:\n",
    "        #    horizontal_disp_min =  ho_min\n",
    "        #if ho_max > horizontal_disp_max:\n",
    "        #    horizontal_disp_max = ho_max\n",
    "        #he_min = np.min(img_hha[:,:,1])\n",
    "        #he_max = np.max(img_hha[:,:,1])\n",
    "        #if he_min < height_min:\n",
    "        #    height_min =  he_min\n",
    "        #if he_max > height_max:\n",
    "        #    height_max = he_max\n",
    "            \n",
    "            "
   ]
  },
  {
   "cell_type": "code",
   "execution_count": null,
   "metadata": {},
   "outputs": [],
   "source": [
    "# discretize hha to uint8 range to save as .png for loading with opencv\n",
    "\n",
    "horizontal_disp_min = 0.0\n",
    "horizontal_disp_max = 51.603515625\n",
    "height_min = -5.31698647452\n",
    "height_max = 9.59365978533\n",
    "angle_min = 0.0\n",
    "angle_max = 3.2\n",
    "\n",
    "for path in paths_to_process:\n",
    "    names = u.load_names(path+'data/semantic/')\n",
    "    for idx, name in enumerate(tqdm(names)):\n",
    "        img_hha = np.load(path + 'data/preprocessed/hha/' + name + 'hha.npy')\n",
    "        img_hha[:,:,0] = (img_hha[:,:,0] - horizontal_disp_min) / (horizontal_disp_max - horizontal_disp_min)\n",
    "        img_hha[:,:,1] = (img_hha[:,:,1] - height_min) / (height_max - height_min)\n",
    "        img_hha[:,:,2] = (img_hha[:,:,2] - angle_min) / (angle_max - angle_min)\n",
    "        img_hha *= 2**8\n",
    "        img_hha = img_hha.astype(np.uint8)\n",
    "        #cv2.imwrite(path+'data/preprocessed/hha/'+name+'hha.png', img_hha)\n",
    "        #cv2.imwrite(path+'data/preprocessed/hha/flip/'+name+'hha.png', np.fliplr(img_hha))"
   ]
  },
  {
   "cell_type": "code",
   "execution_count": null,
   "metadata": {},
   "outputs": [],
   "source": [
    "print(height_max)\n",
    "print(height_min)\n",
    "print(horizontal_disp_max)\n",
    "print(horizontal_disp_min)\n",
    "\n",
    "#9.59365978533\n",
    "#-5.31698647452\n",
    "#51.603515625\n",
    "#0.0"
   ]
  },
  {
   "cell_type": "code",
   "execution_count": null,
   "metadata": {},
   "outputs": [],
   "source": [
    "img_rgb = cv2.cvtColor(cv2.imread('../data/S2D3D/area_1/data/preprocessed/rgb/camera_cfe68c10e7bf43d9b66ab2356eccec62_office_14_frame_11_domain_rgb.png'), cv2.COLOR_BGR2RGB)\n",
    "a = plt.imshow(img_rgb)\n",
    "plt.colorbar(a)"
   ]
  },
  {
   "cell_type": "code",
   "execution_count": null,
   "metadata": {},
   "outputs": [],
   "source": [
    "img_label = cv2.imread('../data/S2D3D/area_1/data/preprocessed/label/camera_b786421e44c048b2af358011987c72ea_hallway_7_frame_40_domain_label.png', cv2.IMREAD_ANYDEPTH)\n",
    "b = plt.imshow(img_label)\n",
    "plt.colorbar(b)"
   ]
  },
  {
   "cell_type": "code",
   "execution_count": null,
   "metadata": {},
   "outputs": [],
   "source": [
    "img_depth = cv2.imread('../data/S2D3D/area_1/data/preprocessed/depth/camera_b786421e44c048b2af358011987c72ea_hallway_7_frame_40_domain_depth.png', cv2.IMREAD_ANYDEPTH)\n",
    "d = plt.imshow(img_depth)\n",
    "plt.colorbar(d)"
   ]
  },
  {
   "cell_type": "code",
   "execution_count": null,
   "metadata": {},
   "outputs": [],
   "source": [
    "img_semantic_pretty = mpimg.imread('../data/S2D3D/area_1/data/semantic_pretty/camera_f6c6ce3c012c49e6a28b2eb07f740753_hallway_7_frame_14_domain_semantic_pretty.png')\n",
    "c = plt.imshow(img_semantic_pretty)\n",
    "plt.colorbar(c)"
   ]
  },
  {
   "cell_type": "code",
   "execution_count": null,
   "metadata": {},
   "outputs": [],
   "source": []
  },
  {
   "cell_type": "code",
   "execution_count": null,
   "metadata": {},
   "outputs": [],
   "source": []
  },
  {
   "cell_type": "code",
   "execution_count": 6,
   "metadata": {
    "scrolled": false
   },
   "outputs": [
    {
     "data": {
      "application/vnd.jupyter.widget-view+json": {
       "model_id": "79b73309959e49eea689b9539a1cf3fb",
       "version_major": 2,
       "version_minor": 0
      },
      "text/html": [
       "<p>Failed to display Jupyter Widget of type <code>interactive</code>.</p>\n",
       "<p>\n",
       "  If you're reading this message in the Jupyter Notebook or JupyterLab Notebook, it may mean\n",
       "  that the widgets JavaScript is still loading. If this message persists, it\n",
       "  likely means that the widgets JavaScript library is either not installed or\n",
       "  not enabled. See the <a href=\"https://ipywidgets.readthedocs.io/en/stable/user_install.html\">Jupyter\n",
       "  Widgets Documentation</a> for setup instructions.\n",
       "</p>\n",
       "<p>\n",
       "  If you're reading this message in another frontend (for example, a static\n",
       "  rendering on GitHub or <a href=\"https://nbviewer.jupyter.org/\">NBViewer</a>),\n",
       "  it may mean that your frontend doesn't currently support widgets.\n",
       "</p>\n"
      ],
      "text/plain": [
       "interactive(children=(IntSlider(value=0, description='i', max=10326), Checkbox(value=True, description='with_colorbar'), Output()), _dom_classes=('widget-interact',))"
      ]
     },
     "metadata": {},
     "output_type": "display_data"
    }
   ],
   "source": [
    "data_path = '/fastwork/kabelitz/data/S2D3D/area_1/data/preprocessed/'\n",
    "rgb_path = data_path + 'rgb/'\n",
    "depth_path = data_path + 'depth/'\n",
    "label_path = data_path + 'label_area_interpolated/'\n",
    "hha_path = data_path + 'hha/'\n",
    "semantic_pretty_path = '../data/S2D3D/area_1/data/semantic_pretty/'\n",
    "\n",
    "rgb_file_names = [f for f in listdir(rgb_path) if isfile(join(rgb_path, f))]\n",
    "\n",
    "def show_rgb_hha_label(i, with_colorbar=True):\n",
    "    f, axarr = plt.subplots(3, 2, figsize=(20, 30))\n",
    "    img_rgb = cv2.cvtColor(cv2.imread(rgb_path + rgb_file_names[i]), cv2.COLOR_BGR2RGB)\n",
    "    im1 = axarr[0,0].imshow(img_rgb)\n",
    "    #img_hha = cv2.imread(hha_path + rgb_file_names[i][:-7] + 'hha.png')\n",
    "    img_hha = np.load(hha_path + rgb_file_names[i][:-7] + 'hha16.npy').astype(np.float32)\n",
    "    \n",
    "    print(img_hha.dtype)\n",
    "    img_hha[:,:,0][np.where(np.logical_or(img_hha[:,:,0] > 15., img_hha[:,:,0] < -0.5))] = -2.\n",
    "    img_hha[:,:,1][np.where(np.logical_or(img_hha[:,:,1] > 5., img_hha[:,:,1] < -0.5))] = -2.\n",
    "    \n",
    "    im2 = axarr[0,1].imshow(img_hha[:,:,0])\n",
    "    im3 = axarr[1,0].imshow(img_hha[:,:,1])\n",
    "    im4 = axarr[1,1].imshow(img_hha[:,:,2])\n",
    "    img_label = cv2.imread(label_path + rgb_file_names[i][:-7] + 'label_area_interpolated.png', cv2.IMREAD_ANYDEPTH)\n",
    "    im5 = axarr[2,0].imshow(img_label)\n",
    "    img_semantics_pretty = mpimg.imread(semantic_pretty_path + rgb_file_names[i][:-7] + 'semantic_pretty.png')\n",
    "    im6 = axarr[2,1].imshow(img_semantics_pretty)\n",
    "    \n",
    "    if with_colorbar:\n",
    "        plt.colorbar(im1, ax=axarr[0,0])\n",
    "        plt.colorbar(im2, ax=axarr[0,1])\n",
    "        plt.colorbar(im3, ax=axarr[1,0])\n",
    "        plt.colorbar(im4, ax=axarr[1,1])\n",
    "        plt.colorbar(im5, ax=axarr[2,0])\n",
    "        plt.colorbar(im6, ax=axarr[2,1])\n",
    "\n",
    "interact(show_rgb_hha_label, i=widgets.IntSlider(min=0, max=len(rgb_file_names)-1));\n",
    "#3913 area_1"
   ]
  },
  {
   "cell_type": "code",
   "execution_count": null,
   "metadata": {},
   "outputs": [],
   "source": []
  },
  {
   "cell_type": "code",
   "execution_count": null,
   "metadata": {},
   "outputs": [],
   "source": []
  }
 ],
 "metadata": {
  "kernelspec": {
   "display_name": "Python 3",
   "language": "python",
   "name": "python3"
  },
  "language_info": {
   "codemirror_mode": {
    "name": "ipython",
    "version": 3
   },
   "file_extension": ".py",
   "mimetype": "text/x-python",
   "name": "python",
   "nbconvert_exporter": "python",
   "pygments_lexer": "ipython3",
   "version": "3.6.4"
  }
 },
 "nbformat": 4,
 "nbformat_minor": 2
}
